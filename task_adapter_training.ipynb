{
 "cells": [
  {
   "cell_type": "markdown",
   "id": "30c9495f-baf7-4460-ab80-8860fb681e8e",
   "metadata": {},
   "source": [
    "## Training Task Adapters\n",
    "Using randomized search, we identify optimal hyperparameters to train task specfic adapters on GLUE tasks."
   ]
  },
  {
   "cell_type": "code",
   "execution_count": null,
   "id": "9889c970-bdb0-464f-953d-78c2224b76fe",
   "metadata": {},
   "outputs": [],
   "source": [
    "# !pip install -Uqq adapter-transformers datasets\n",
    "\n",
    "%load_ext autoreload\n",
    "%autoreload 2\n",
    "from task_utils import TaskModelArguments, TaskDataTrainingArguments, task_to_keys\n",
    "from task import train_task_adapter\n",
    "from transformers import (\n",
    "    MultiLingAdapterArguments,\n",
    "    TrainingArguments,\n",
    ")"
   ]
  },
  {
   "cell_type": "markdown",
   "id": "33aa90b1-82cb-41e8-b38d-e6fceb42f486",
   "metadata": {},
   "source": [
    "### CoLA Task"
   ]
  },
  {
   "cell_type": "code",
   "execution_count": null,
   "id": "42140b79-70be-4071-9a68-00c4e5595736",
   "metadata": {},
   "outputs": [],
   "source": [
    "task = \"cola\"\n",
    "\n",
    "model = TaskModelArguments(\n",
    "    model_name_or_path=\"roberta-base\",\n",
    ")\n",
    "\n",
    "data = TaskDataTrainingArguments(\n",
    "    task_name=task,\n",
    "    max_seq_length=128,\n",
    "    pad_to_max_length=True,\n",
    ")\n",
    "\n",
    "training = TrainingArguments(\n",
    "    adam_beta1=0.9,\n",
    "    adam_beta2=0.999,\n",
    "    adam_epsilon=1e-08,\n",
    "    learning_rate=1e-4,\n",
    "    warmup_ratio=0.0,\n",
    "    warmup_steps=0,\n",
    "    weight_decay=0.0,\n",
    "    do_train=True,\n",
    "    do_eval=True,\n",
    "    num_train_epochs=1, # CHANGE ME\n",
    "    overwrite_output_dir=True,\n",
    "    output_dir=f\"./adapter/task/{task}\",\n",
    ")\n",
    "\n",
    "adapter = MultiLingAdapterArguments(\n",
    "    train_adapter=True,\n",
    "    adapter_config=\"pfeiffer\",\n",
    ")"
   ]
  },
  {
   "cell_type": "code",
   "execution_count": null,
   "id": "003f96c8-06ce-436c-856b-b70a83ccb260",
   "metadata": {},
   "outputs": [],
   "source": [
    "train_stats, eval_stats = train_task_adapter(\n",
    "    model_args=model, adapter_args=adapter, training_args=training, data_args=data\n",
    ")"
   ]
  },
  {
   "cell_type": "code",
   "execution_count": null,
   "id": "ece987d7-0b7e-439a-8a63-aa4d397cb9b4",
   "metadata": {},
   "outputs": [],
   "source": [
    "train_stats"
   ]
  },
  {
   "cell_type": "code",
   "execution_count": null,
   "id": "f52bfc98-9b4a-4ce8-9839-d2bb586de0ba",
   "metadata": {},
   "outputs": [],
   "source": [
    "eval_stats"
   ]
  },
  {
   "cell_type": "code",
   "execution_count": null,
   "id": "c9d8cf70-b28c-4943-81f1-dd0c6cf97c55",
   "metadata": {},
   "outputs": [],
   "source": [
    "print(f\"Training Loss: {train_stats.get('train_loss')}\"\n",
    "      f\"\\nValidation Loss: {eval_stats.get('eval_loss')}\"\n",
    "      f\"\\nMatthews Correlation: {eval_stats.get('eval_matthews_correlation')}\")"
   ]
  }
 ],
 "metadata": {
  "kernelspec": {
   "display_name": "Python 3 (ipykernel)",
   "language": "python",
   "name": "python3"
  },
  "language_info": {
   "codemirror_mode": {
    "name": "ipython",
    "version": 3
   },
   "file_extension": ".py",
   "mimetype": "text/x-python",
   "name": "python",
   "nbconvert_exporter": "python",
   "pygments_lexer": "ipython3",
   "version": "3.8.10"
  }
 },
 "nbformat": 4,
 "nbformat_minor": 5
}
