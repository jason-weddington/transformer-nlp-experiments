{
 "cells": [
  {
   "cell_type": "markdown",
   "id": "b29d6932",
   "metadata": {
    "id": "30c9495f-baf7-4460-ab80-8860fb681e8e"
   },
   "source": [
    "## Training Task Adapters\n",
    "Using randomized search, we identify optimal hyperparameters to train task specfic adapters on GLUE tasks."
   ]
  },
  {
   "cell_type": "code",
   "execution_count": null,
   "id": "8a36b615",
   "metadata": {
    "colab": {
     "base_uri": "https://localhost:8080/"
    },
    "executionInfo": {
     "elapsed": 14598,
     "status": "ok",
     "timestamp": 1627331551612,
     "user": {
      "displayName": "Snow Cones",
      "photoUrl": "",
      "userId": "05757556542173404456"
     },
     "user_tz": 240
    },
    "id": "KdDh2RdkTRxi",
    "outputId": "0e461b18-4985-4f09-cb45-dfe2e2a47322"
   },
   "outputs": [],
   "source": [
    "from google.colab import drive\n",
    "drive.mount('/content/drive')"
   ]
  },
  {
   "cell_type": "code",
   "execution_count": null,
   "id": "72bebb83",
   "metadata": {
    "colab": {
     "base_uri": "https://localhost:8080/"
    },
    "executionInfo": {
     "elapsed": 169,
     "status": "ok",
     "timestamp": 1627331553058,
     "user": {
      "displayName": "Snow Cones",
      "photoUrl": "",
      "userId": "05757556542173404456"
     },
     "user_tz": 240
    },
    "id": "BQjODWExTcpq",
    "outputId": "e92c101a-3cb2-4243-c0dc-3c398b6333ba"
   },
   "outputs": [],
   "source": [
    "cd drive/MyDrive/cs7643-deep-learning-summer-2021/"
   ]
  },
  {
   "cell_type": "code",
   "execution_count": null,
   "id": "744c0da6",
   "metadata": {
    "colab": {
     "base_uri": "https://localhost:8080/"
    },
    "executionInfo": {
     "elapsed": 16466,
     "status": "ok",
     "timestamp": 1627331572588,
     "user": {
      "displayName": "Snow Cones",
      "photoUrl": "",
      "userId": "05757556542173404456"
     },
     "user_tz": 240
    },
    "id": "9889c970-bdb0-464f-953d-78c2224b76fe",
    "outputId": "c6ed4418-74d9-425b-cd05-e53d99f74100"
   },
   "outputs": [],
   "source": [
    "# !pip install -Uqq adapter-transformers datasets\n",
    "\n",
    "%load_ext autoreload\n",
    "%autoreload 2\n",
    "from task_utils import TaskModelArguments, TaskDataTrainingArguments, task_to_keys\n",
    "from task import train_task_adapter\n",
    "from transformers import (\n",
    "    MultiLingAdapterArguments,\n",
    "    TrainingArguments,\n",
    ")"
   ]
  },
  {
   "cell_type": "markdown",
   "id": "71b9d3eb",
   "metadata": {
    "id": "33aa90b1-82cb-41e8-b38d-e6fceb42f486"
   },
   "source": [
    "### CoLA Task"
   ]
  },
  {
   "cell_type": "code",
   "execution_count": null,
   "id": "6bbcc7f5",
   "metadata": {
    "executionInfo": {
     "elapsed": 134,
     "status": "ok",
     "timestamp": 1627331575013,
     "user": {
      "displayName": "Snow Cones",
      "photoUrl": "",
      "userId": "05757556542173404456"
     },
     "user_tz": 240
    },
    "id": "oEFf_pUPYdWU"
   },
   "outputs": [],
   "source": [
    "def initParse(dictionary):\n",
    "  model = TaskModelArguments(\n",
    "      model_name_or_path=dictionary.get('model_name_or_path')\n",
    "  )\n",
    "\n",
    "  data = TaskDataTrainingArguments(\n",
    "      task_name=dictionary.get('task_name'),\n",
    "      max_seq_length=dictionary.get('max_seq_length'),\n",
    "      pad_to_max_length=dictionary.get('pad_to_max_length')\n",
    "  )\n",
    "\n",
    "  training = TrainingArguments(\n",
    "    adam_beta1=dictionary.get('adam_beta1'),\n",
    "    adam_beta2=dictionary.get('adam_beta2'),\n",
    "    adam_epsilon=dictionary.get('adam_epsilon'),\n",
    "    learning_rate=dictionary.get('learning_rate'),\n",
    "    warmup_ratio=dictionary.get('warmup_ratio'),\n",
    "    warmup_steps=dictionary.get('warmup_steps'),\n",
    "    weight_decay=dictionary.get('weight_decay'),\n",
    "    do_train=dictionary.get('do_train'),\n",
    "    do_eval=dictionary.get('do_train'),\n",
    "    per_device_train_batch_size=dictionary.get('per_device_train_batch_size'),\n",
    "    num_train_epochs=dictionary.get('num_train_epochs'), # CHANGE ME\n",
    "    overwrite_output_dir=dictionary.get('overwrite_output_dir'),\n",
    "    output_dir=f\"./adapter/task/{dictionary.get('task_name')}\",\n",
    "  )\n",
    "\n",
    "  adapter = MultiLingAdapterArguments(\n",
    "      train_adapter=True,\n",
    "      adapter_config=\"pfeiffer\",\n",
    "  )\n",
    "\n",
    "  return model, data, training, adapter"
   ]
  },
  {
   "cell_type": "code",
   "execution_count": null,
   "id": "1da47d66",
   "metadata": {
    "executionInfo": {
     "elapsed": 146,
     "status": "ok",
     "timestamp": 1627334783310,
     "user": {
      "displayName": "Snow Cones",
      "photoUrl": "",
      "userId": "05757556542173404456"
     },
     "user_tz": 240
    },
    "id": "R9232RQWblms"
   },
   "outputs": [],
   "source": [
    "import random\n",
    "import itertools\n",
    "import subprocess\n",
    "import pandas as pd\n",
    "\n",
    "def getParams(dictionary, limit):\n",
    "  paramsList = [dict(zip(dictionary, v)) for v in itertools.product(*dictionary.values())]\n",
    "  random.shuffle(paramsList)\n",
    "\n",
    "  if limit is not False:\n",
    "    paramsList = paramsList[0:min(limit, len(paramsList))]\n",
    "\n",
    "  return paramsList"
   ]
  },
  {
   "cell_type": "markdown",
   "id": "fb130ac9",
   "metadata": {
    "id": "FZR2TOk1hZyT"
   },
   "source": [
    "**Define Dictionary of Hyperparameters**"
   ]
  },
  {
   "cell_type": "code",
   "execution_count": null,
   "id": "8bc3030f-43e4-4063-a922-a4376ed66743",
   "metadata": {},
   "outputs": [],
   "source": [
    "glue_tasks = [\n",
    "    \"cola\",\n",
    "    \"mnli\",\n",
    "    #\"mrpc\",\n",
    "    \"qnli\",\n",
    "    \"qqp\",\n",
    "    \"rte\",\n",
    "    \"sst2\",\n",
    "    \"stsb\",\n",
    "    \"wnli\",\n",
    "]"
   ]
  },
  {
   "cell_type": "code",
   "execution_count": null,
   "id": "816a7b2f",
   "metadata": {
    "executionInfo": {
     "elapsed": 157,
     "status": "ok",
     "timestamp": 1627331583420,
     "user": {
      "displayName": "Snow Cones",
      "photoUrl": "",
      "userId": "05757556542173404456"
     },
     "user_tz": 240
    },
    "id": "F1FN14CdVqFP"
   },
   "outputs": [],
   "source": [
    "task = 'cola'\n",
    "paramDictionary = {'task_name':[task],\n",
    "                   'model_name_or_path':['roberta-base'],\n",
    "                   'max_seq_length':[64, 128, 256],\n",
    "                   'pad_to_max_length':[True],\n",
    "                   'per_device_train_batch_size':[8, 16, 32, 64, 128],\n",
    "                   'adam_beta1':[.9],\n",
    "                   'adam_beta2':[.999],\n",
    "                   'adam_epsilon':[1e-8,1e-7,1e-6],\n",
    "                   'learning_rate':[1e-6,1e-5,1e-4,1e-3],\n",
    "                   'warmup_ratio':[0.0],\n",
    "                   'warmup_steps':[0],\n",
    "                   'weight_decay':[0.0],\n",
    "                   'do_train':[True],\n",
    "                   'do_eval':[True],\n",
    "                   'num_train_epochs':[10],\n",
    "                   'overwrite_output_dir':[True],\n",
    "                   'adapter_config':['pfeiffer']\n",
    "                   }"
   ]
  },
  {
   "cell_type": "markdown",
   "id": "221eee26",
   "metadata": {
    "id": "CHmh6eeThiTm"
   },
   "source": [
    "**Begin Looping**"
   ]
  },
  {
   "cell_type": "code",
   "execution_count": null,
   "id": "e2372beb",
   "metadata": {
    "colab": {
     "base_uri": "https://localhost:8080/",
     "height": 1000,
     "referenced_widgets": [
      "beab7a6853464a2fb9da17c3a0c53f80",
      "06e9193555754f3c820fb47c9322925d",
      "d9c12bc752e745149f3d3e0edf93fe10",
      "8d12e917320e4de7ad3bd165a4f991bf",
      "7f5b43aafb754ccd82c11b0f7fa6b210",
      "2d64c717a1354cefab8b3c9e6334577e",
      "99a900f85059444581e93cb6ec686c4d",
      "3c3c6c0c806e417db227ad8afe80335e",
      "ccac7134e00a4f6581d80ca2943a0fcf",
      "3ee4cb3cecf0451f925dc34ed709d2a0",
      "c8bbed77890e4deb9d9263c95310a42a",
      "0a67106bdf5740baa70ccdced2ddc14e",
      "7ec6b5f9910f4a6da32473732eb96508",
      "5a12798be0d44c5fbbcfff260f366b68",
      "0e0ea8ae0cca4ab0914bb608a721aa18",
      "c00d73694fdb483d9d1f2a0e4334e890",
      "7a4a19a374ca47e5ace3a71fef6f4179",
      "bdea7284db604e26af00969e632fe1d3",
      "bcd6ce6c84574455ba3dd425e2267241",
      "310079aaacc443a98064000f342261a8",
      "a8915cd5793a408092c6d0e7357c6ba1",
      "83aa40a78b5e4f5593190fb8751f1f21"
     ]
    },
    "executionInfo": {
     "elapsed": 885367,
     "status": "ok",
     "timestamp": 1627335786995,
     "user": {
      "displayName": "Snow Cones",
      "photoUrl": "",
      "userId": "05757556542173404456"
     },
     "user_tz": 240
    },
    "id": "uEcrWpiJbyed",
    "outputId": "f517ea12-a23e-4b6e-bd83-62614f8acf1c",
    "scrolled": true,
    "tags": []
   },
   "outputs": [],
   "source": [
    "limit = 15 #Numerical or False for no limit\n",
    "\n",
    "for data_set in glue_tasks:\n",
    "    output=[]\n",
    "    paramDictionary[\"task_name\"] = [data_set]\n",
    "    paramsList = getParams(paramDictionary, limit)\n",
    "    for p in paramsList:\n",
    "        model, data, training, adapter = initParse(p)\n",
    "        row = []\n",
    "        row.extend(list(p.values()))\n",
    "        train_stats, eval_stats = train_task_adapter(\n",
    "        model_args=model, adapter_args=adapter, training_args=training, data_args=data\n",
    "        )\n",
    "        row.extend(list(train_stats.values()))\n",
    "        row.extend(list(eval_stats.values()))\n",
    "\n",
    "        output.append(row)\n",
    "\n",
    "    header = []\n",
    "    header.extend(list(p.keys()))\n",
    "    header.extend(list(train_stats.keys()))\n",
    "    header.extend(list(eval_stats.keys()))\n",
    "\n",
    "    output_df = pd.DataFrame(output, columns=header)\n",
    "    output_df.to_csv(f\"./adapter/task/{data_set}_hp_search.csv\")"
   ]
  },
  {
   "cell_type": "code",
   "execution_count": null,
   "id": "79dfc438",
   "metadata": {
    "colab": {
     "base_uri": "https://localhost:8080/",
     "height": 224
    },
    "executionInfo": {
     "elapsed": 133,
     "status": "ok",
     "timestamp": 1627336165628,
     "user": {
      "displayName": "Snow Cones",
      "photoUrl": "",
      "userId": "05757556542173404456"
     },
     "user_tz": 240
    },
    "id": "-ZzV3KWAyv34",
    "outputId": "d929cf2c-9f4c-40da-98c3-2655908ef28a"
   },
   "outputs": [],
   "source": [
    "output"
   ]
  }
 ],
 "metadata": {
  "colab": {
   "name": "task_adapter_training.ipynb",
   "provenance": []
  },
  "kernelspec": {
   "display_name": "Python 3 (ipykernel)",
   "language": "python",
   "name": "python3"
  },
  "language_info": {
   "codemirror_mode": {
    "name": "ipython",
    "version": 3
   },
   "file_extension": ".py",
   "mimetype": "text/x-python",
   "name": "python",
   "nbconvert_exporter": "python",
   "pygments_lexer": "ipython3",
   "version": "3.8.10"
  },
  "widgets": {
   "application/vnd.jupyter.widget-state+json": {
    "06e9193555754f3c820fb47c9322925d": {
     "model_module": "@jupyter-widgets/base",
     "model_name": "LayoutModel",
     "state": {
      "_model_module": "@jupyter-widgets/base",
      "_model_module_version": "1.2.0",
      "_model_name": "LayoutModel",
      "_view_count": null,
      "_view_module": "@jupyter-widgets/base",
      "_view_module_version": "1.2.0",
      "_view_name": "LayoutView",
      "align_content": null,
      "align_items": null,
      "align_self": null,
      "border": null,
      "bottom": null,
      "display": null,
      "flex": null,
      "flex_flow": null,
      "grid_area": null,
      "grid_auto_columns": null,
      "grid_auto_flow": null,
      "grid_auto_rows": null,
      "grid_column": null,
      "grid_gap": null,
      "grid_row": null,
      "grid_template_areas": null,
      "grid_template_columns": null,
      "grid_template_rows": null,
      "height": null,
      "justify_content": null,
      "justify_items": null,
      "left": null,
      "margin": null,
      "max_height": null,
      "max_width": null,
      "min_height": null,
      "min_width": null,
      "object_fit": null,
      "object_position": null,
      "order": null,
      "overflow": null,
      "overflow_x": null,
      "overflow_y": null,
      "padding": null,
      "right": null,
      "top": null,
      "visibility": null,
      "width": null
     }
    },
    "0a67106bdf5740baa70ccdced2ddc14e": {
     "model_module": "@jupyter-widgets/controls",
     "model_name": "HBoxModel",
     "state": {
      "_dom_classes": [],
      "_model_module": "@jupyter-widgets/controls",
      "_model_module_version": "1.5.0",
      "_model_name": "HBoxModel",
      "_view_count": null,
      "_view_module": "@jupyter-widgets/controls",
      "_view_module_version": "1.5.0",
      "_view_name": "HBoxView",
      "box_style": "",
      "children": [
       "IPY_MODEL_5a12798be0d44c5fbbcfff260f366b68",
       "IPY_MODEL_0e0ea8ae0cca4ab0914bb608a721aa18",
       "IPY_MODEL_c00d73694fdb483d9d1f2a0e4334e890"
      ],
      "layout": "IPY_MODEL_7ec6b5f9910f4a6da32473732eb96508"
     }
    },
    "0e0ea8ae0cca4ab0914bb608a721aa18": {
     "model_module": "@jupyter-widgets/controls",
     "model_name": "FloatProgressModel",
     "state": {
      "_dom_classes": [],
      "_model_module": "@jupyter-widgets/controls",
      "_model_module_version": "1.5.0",
      "_model_name": "FloatProgressModel",
      "_view_count": null,
      "_view_module": "@jupyter-widgets/controls",
      "_view_module_version": "1.5.0",
      "_view_name": "ProgressView",
      "bar_style": "success",
      "description": "",
      "description_tooltip": null,
      "layout": "IPY_MODEL_310079aaacc443a98064000f342261a8",
      "max": 2,
      "min": 0,
      "orientation": "horizontal",
      "style": "IPY_MODEL_bcd6ce6c84574455ba3dd425e2267241",
      "value": 2
     }
    },
    "2d64c717a1354cefab8b3c9e6334577e": {
     "model_module": "@jupyter-widgets/controls",
     "model_name": "DescriptionStyleModel",
     "state": {
      "_model_module": "@jupyter-widgets/controls",
      "_model_module_version": "1.5.0",
      "_model_name": "DescriptionStyleModel",
      "_view_count": null,
      "_view_module": "@jupyter-widgets/base",
      "_view_module_version": "1.2.0",
      "_view_name": "StyleView",
      "description_width": ""
     }
    },
    "310079aaacc443a98064000f342261a8": {
     "model_module": "@jupyter-widgets/base",
     "model_name": "LayoutModel",
     "state": {
      "_model_module": "@jupyter-widgets/base",
      "_model_module_version": "1.2.0",
      "_model_name": "LayoutModel",
      "_view_count": null,
      "_view_module": "@jupyter-widgets/base",
      "_view_module_version": "1.2.0",
      "_view_name": "LayoutView",
      "align_content": null,
      "align_items": null,
      "align_self": null,
      "border": null,
      "bottom": null,
      "display": null,
      "flex": null,
      "flex_flow": null,
      "grid_area": null,
      "grid_auto_columns": null,
      "grid_auto_flow": null,
      "grid_auto_rows": null,
      "grid_column": null,
      "grid_gap": null,
      "grid_row": null,
      "grid_template_areas": null,
      "grid_template_columns": null,
      "grid_template_rows": null,
      "height": null,
      "justify_content": null,
      "justify_items": null,
      "left": null,
      "margin": null,
      "max_height": null,
      "max_width": null,
      "min_height": null,
      "min_width": null,
      "object_fit": null,
      "object_position": null,
      "order": null,
      "overflow": null,
      "overflow_x": null,
      "overflow_y": null,
      "padding": null,
      "right": null,
      "top": null,
      "visibility": null,
      "width": null
     }
    },
    "3c3c6c0c806e417db227ad8afe80335e": {
     "model_module": "@jupyter-widgets/controls",
     "model_name": "ProgressStyleModel",
     "state": {
      "_model_module": "@jupyter-widgets/controls",
      "_model_module_version": "1.5.0",
      "_model_name": "ProgressStyleModel",
      "_view_count": null,
      "_view_module": "@jupyter-widgets/base",
      "_view_module_version": "1.2.0",
      "_view_name": "StyleView",
      "bar_color": null,
      "description_width": ""
     }
    },
    "3ee4cb3cecf0451f925dc34ed709d2a0": {
     "model_module": "@jupyter-widgets/controls",
     "model_name": "DescriptionStyleModel",
     "state": {
      "_model_module": "@jupyter-widgets/controls",
      "_model_module_version": "1.5.0",
      "_model_name": "DescriptionStyleModel",
      "_view_count": null,
      "_view_module": "@jupyter-widgets/base",
      "_view_module_version": "1.2.0",
      "_view_name": "StyleView",
      "description_width": ""
     }
    },
    "5a12798be0d44c5fbbcfff260f366b68": {
     "model_module": "@jupyter-widgets/controls",
     "model_name": "HTMLModel",
     "state": {
      "_dom_classes": [],
      "_model_module": "@jupyter-widgets/controls",
      "_model_module_version": "1.5.0",
      "_model_name": "HTMLModel",
      "_view_count": null,
      "_view_module": "@jupyter-widgets/controls",
      "_view_module_version": "1.5.0",
      "_view_name": "HTMLView",
      "description": "",
      "description_tooltip": null,
      "layout": "IPY_MODEL_bdea7284db604e26af00969e632fe1d3",
      "placeholder": "​",
      "style": "IPY_MODEL_7a4a19a374ca47e5ace3a71fef6f4179",
      "value": "100%"
     }
    },
    "7a4a19a374ca47e5ace3a71fef6f4179": {
     "model_module": "@jupyter-widgets/controls",
     "model_name": "DescriptionStyleModel",
     "state": {
      "_model_module": "@jupyter-widgets/controls",
      "_model_module_version": "1.5.0",
      "_model_name": "DescriptionStyleModel",
      "_view_count": null,
      "_view_module": "@jupyter-widgets/base",
      "_view_module_version": "1.2.0",
      "_view_name": "StyleView",
      "description_width": ""
     }
    },
    "7ec6b5f9910f4a6da32473732eb96508": {
     "model_module": "@jupyter-widgets/base",
     "model_name": "LayoutModel",
     "state": {
      "_model_module": "@jupyter-widgets/base",
      "_model_module_version": "1.2.0",
      "_model_name": "LayoutModel",
      "_view_count": null,
      "_view_module": "@jupyter-widgets/base",
      "_view_module_version": "1.2.0",
      "_view_name": "LayoutView",
      "align_content": null,
      "align_items": null,
      "align_self": null,
      "border": null,
      "bottom": null,
      "display": null,
      "flex": null,
      "flex_flow": null,
      "grid_area": null,
      "grid_auto_columns": null,
      "grid_auto_flow": null,
      "grid_auto_rows": null,
      "grid_column": null,
      "grid_gap": null,
      "grid_row": null,
      "grid_template_areas": null,
      "grid_template_columns": null,
      "grid_template_rows": null,
      "height": null,
      "justify_content": null,
      "justify_items": null,
      "left": null,
      "margin": null,
      "max_height": null,
      "max_width": null,
      "min_height": null,
      "min_width": null,
      "object_fit": null,
      "object_position": null,
      "order": null,
      "overflow": null,
      "overflow_x": null,
      "overflow_y": null,
      "padding": null,
      "right": null,
      "top": null,
      "visibility": null,
      "width": null
     }
    },
    "7f5b43aafb754ccd82c11b0f7fa6b210": {
     "model_module": "@jupyter-widgets/controls",
     "model_name": "HTMLModel",
     "state": {
      "_dom_classes": [],
      "_model_module": "@jupyter-widgets/controls",
      "_model_module_version": "1.5.0",
      "_model_name": "HTMLModel",
      "_view_count": null,
      "_view_module": "@jupyter-widgets/controls",
      "_view_module_version": "1.5.0",
      "_view_name": "HTMLView",
      "description": "",
      "description_tooltip": null,
      "layout": "IPY_MODEL_c8bbed77890e4deb9d9263c95310a42a",
      "placeholder": "​",
      "style": "IPY_MODEL_3ee4cb3cecf0451f925dc34ed709d2a0",
      "value": " 2/2 [00:00&lt;00:00,  9.47ba/s]"
     }
    },
    "83aa40a78b5e4f5593190fb8751f1f21": {
     "model_module": "@jupyter-widgets/base",
     "model_name": "LayoutModel",
     "state": {
      "_model_module": "@jupyter-widgets/base",
      "_model_module_version": "1.2.0",
      "_model_name": "LayoutModel",
      "_view_count": null,
      "_view_module": "@jupyter-widgets/base",
      "_view_module_version": "1.2.0",
      "_view_name": "LayoutView",
      "align_content": null,
      "align_items": null,
      "align_self": null,
      "border": null,
      "bottom": null,
      "display": null,
      "flex": null,
      "flex_flow": null,
      "grid_area": null,
      "grid_auto_columns": null,
      "grid_auto_flow": null,
      "grid_auto_rows": null,
      "grid_column": null,
      "grid_gap": null,
      "grid_row": null,
      "grid_template_areas": null,
      "grid_template_columns": null,
      "grid_template_rows": null,
      "height": null,
      "justify_content": null,
      "justify_items": null,
      "left": null,
      "margin": null,
      "max_height": null,
      "max_width": null,
      "min_height": null,
      "min_width": null,
      "object_fit": null,
      "object_position": null,
      "order": null,
      "overflow": null,
      "overflow_x": null,
      "overflow_y": null,
      "padding": null,
      "right": null,
      "top": null,
      "visibility": null,
      "width": null
     }
    },
    "8d12e917320e4de7ad3bd165a4f991bf": {
     "model_module": "@jupyter-widgets/controls",
     "model_name": "FloatProgressModel",
     "state": {
      "_dom_classes": [],
      "_model_module": "@jupyter-widgets/controls",
      "_model_module_version": "1.5.0",
      "_model_name": "FloatProgressModel",
      "_view_count": null,
      "_view_module": "@jupyter-widgets/controls",
      "_view_module_version": "1.5.0",
      "_view_name": "ProgressView",
      "bar_style": "success",
      "description": "",
      "description_tooltip": null,
      "layout": "IPY_MODEL_ccac7134e00a4f6581d80ca2943a0fcf",
      "max": 2,
      "min": 0,
      "orientation": "horizontal",
      "style": "IPY_MODEL_3c3c6c0c806e417db227ad8afe80335e",
      "value": 2
     }
    },
    "99a900f85059444581e93cb6ec686c4d": {
     "model_module": "@jupyter-widgets/base",
     "model_name": "LayoutModel",
     "state": {
      "_model_module": "@jupyter-widgets/base",
      "_model_module_version": "1.2.0",
      "_model_name": "LayoutModel",
      "_view_count": null,
      "_view_module": "@jupyter-widgets/base",
      "_view_module_version": "1.2.0",
      "_view_name": "LayoutView",
      "align_content": null,
      "align_items": null,
      "align_self": null,
      "border": null,
      "bottom": null,
      "display": null,
      "flex": null,
      "flex_flow": null,
      "grid_area": null,
      "grid_auto_columns": null,
      "grid_auto_flow": null,
      "grid_auto_rows": null,
      "grid_column": null,
      "grid_gap": null,
      "grid_row": null,
      "grid_template_areas": null,
      "grid_template_columns": null,
      "grid_template_rows": null,
      "height": null,
      "justify_content": null,
      "justify_items": null,
      "left": null,
      "margin": null,
      "max_height": null,
      "max_width": null,
      "min_height": null,
      "min_width": null,
      "object_fit": null,
      "object_position": null,
      "order": null,
      "overflow": null,
      "overflow_x": null,
      "overflow_y": null,
      "padding": null,
      "right": null,
      "top": null,
      "visibility": null,
      "width": null
     }
    },
    "a8915cd5793a408092c6d0e7357c6ba1": {
     "model_module": "@jupyter-widgets/controls",
     "model_name": "DescriptionStyleModel",
     "state": {
      "_model_module": "@jupyter-widgets/controls",
      "_model_module_version": "1.5.0",
      "_model_name": "DescriptionStyleModel",
      "_view_count": null,
      "_view_module": "@jupyter-widgets/base",
      "_view_module_version": "1.2.0",
      "_view_name": "StyleView",
      "description_width": ""
     }
    },
    "bcd6ce6c84574455ba3dd425e2267241": {
     "model_module": "@jupyter-widgets/controls",
     "model_name": "ProgressStyleModel",
     "state": {
      "_model_module": "@jupyter-widgets/controls",
      "_model_module_version": "1.5.0",
      "_model_name": "ProgressStyleModel",
      "_view_count": null,
      "_view_module": "@jupyter-widgets/base",
      "_view_module_version": "1.2.0",
      "_view_name": "StyleView",
      "bar_color": null,
      "description_width": ""
     }
    },
    "bdea7284db604e26af00969e632fe1d3": {
     "model_module": "@jupyter-widgets/base",
     "model_name": "LayoutModel",
     "state": {
      "_model_module": "@jupyter-widgets/base",
      "_model_module_version": "1.2.0",
      "_model_name": "LayoutModel",
      "_view_count": null,
      "_view_module": "@jupyter-widgets/base",
      "_view_module_version": "1.2.0",
      "_view_name": "LayoutView",
      "align_content": null,
      "align_items": null,
      "align_self": null,
      "border": null,
      "bottom": null,
      "display": null,
      "flex": null,
      "flex_flow": null,
      "grid_area": null,
      "grid_auto_columns": null,
      "grid_auto_flow": null,
      "grid_auto_rows": null,
      "grid_column": null,
      "grid_gap": null,
      "grid_row": null,
      "grid_template_areas": null,
      "grid_template_columns": null,
      "grid_template_rows": null,
      "height": null,
      "justify_content": null,
      "justify_items": null,
      "left": null,
      "margin": null,
      "max_height": null,
      "max_width": null,
      "min_height": null,
      "min_width": null,
      "object_fit": null,
      "object_position": null,
      "order": null,
      "overflow": null,
      "overflow_x": null,
      "overflow_y": null,
      "padding": null,
      "right": null,
      "top": null,
      "visibility": null,
      "width": null
     }
    },
    "beab7a6853464a2fb9da17c3a0c53f80": {
     "model_module": "@jupyter-widgets/controls",
     "model_name": "HBoxModel",
     "state": {
      "_dom_classes": [],
      "_model_module": "@jupyter-widgets/controls",
      "_model_module_version": "1.5.0",
      "_model_name": "HBoxModel",
      "_view_count": null,
      "_view_module": "@jupyter-widgets/controls",
      "_view_module_version": "1.5.0",
      "_view_name": "HBoxView",
      "box_style": "",
      "children": [
       "IPY_MODEL_d9c12bc752e745149f3d3e0edf93fe10",
       "IPY_MODEL_8d12e917320e4de7ad3bd165a4f991bf",
       "IPY_MODEL_7f5b43aafb754ccd82c11b0f7fa6b210"
      ],
      "layout": "IPY_MODEL_06e9193555754f3c820fb47c9322925d"
     }
    },
    "c00d73694fdb483d9d1f2a0e4334e890": {
     "model_module": "@jupyter-widgets/controls",
     "model_name": "HTMLModel",
     "state": {
      "_dom_classes": [],
      "_model_module": "@jupyter-widgets/controls",
      "_model_module_version": "1.5.0",
      "_model_name": "HTMLModel",
      "_view_count": null,
      "_view_module": "@jupyter-widgets/controls",
      "_view_module_version": "1.5.0",
      "_view_name": "HTMLView",
      "description": "",
      "description_tooltip": null,
      "layout": "IPY_MODEL_83aa40a78b5e4f5593190fb8751f1f21",
      "placeholder": "​",
      "style": "IPY_MODEL_a8915cd5793a408092c6d0e7357c6ba1",
      "value": " 2/2 [00:00&lt;00:00,  6.16ba/s]"
     }
    },
    "c8bbed77890e4deb9d9263c95310a42a": {
     "model_module": "@jupyter-widgets/base",
     "model_name": "LayoutModel",
     "state": {
      "_model_module": "@jupyter-widgets/base",
      "_model_module_version": "1.2.0",
      "_model_name": "LayoutModel",
      "_view_count": null,
      "_view_module": "@jupyter-widgets/base",
      "_view_module_version": "1.2.0",
      "_view_name": "LayoutView",
      "align_content": null,
      "align_items": null,
      "align_self": null,
      "border": null,
      "bottom": null,
      "display": null,
      "flex": null,
      "flex_flow": null,
      "grid_area": null,
      "grid_auto_columns": null,
      "grid_auto_flow": null,
      "grid_auto_rows": null,
      "grid_column": null,
      "grid_gap": null,
      "grid_row": null,
      "grid_template_areas": null,
      "grid_template_columns": null,
      "grid_template_rows": null,
      "height": null,
      "justify_content": null,
      "justify_items": null,
      "left": null,
      "margin": null,
      "max_height": null,
      "max_width": null,
      "min_height": null,
      "min_width": null,
      "object_fit": null,
      "object_position": null,
      "order": null,
      "overflow": null,
      "overflow_x": null,
      "overflow_y": null,
      "padding": null,
      "right": null,
      "top": null,
      "visibility": null,
      "width": null
     }
    },
    "ccac7134e00a4f6581d80ca2943a0fcf": {
     "model_module": "@jupyter-widgets/base",
     "model_name": "LayoutModel",
     "state": {
      "_model_module": "@jupyter-widgets/base",
      "_model_module_version": "1.2.0",
      "_model_name": "LayoutModel",
      "_view_count": null,
      "_view_module": "@jupyter-widgets/base",
      "_view_module_version": "1.2.0",
      "_view_name": "LayoutView",
      "align_content": null,
      "align_items": null,
      "align_self": null,
      "border": null,
      "bottom": null,
      "display": null,
      "flex": null,
      "flex_flow": null,
      "grid_area": null,
      "grid_auto_columns": null,
      "grid_auto_flow": null,
      "grid_auto_rows": null,
      "grid_column": null,
      "grid_gap": null,
      "grid_row": null,
      "grid_template_areas": null,
      "grid_template_columns": null,
      "grid_template_rows": null,
      "height": null,
      "justify_content": null,
      "justify_items": null,
      "left": null,
      "margin": null,
      "max_height": null,
      "max_width": null,
      "min_height": null,
      "min_width": null,
      "object_fit": null,
      "object_position": null,
      "order": null,
      "overflow": null,
      "overflow_x": null,
      "overflow_y": null,
      "padding": null,
      "right": null,
      "top": null,
      "visibility": null,
      "width": null
     }
    },
    "d9c12bc752e745149f3d3e0edf93fe10": {
     "model_module": "@jupyter-widgets/controls",
     "model_name": "HTMLModel",
     "state": {
      "_dom_classes": [],
      "_model_module": "@jupyter-widgets/controls",
      "_model_module_version": "1.5.0",
      "_model_name": "HTMLModel",
      "_view_count": null,
      "_view_module": "@jupyter-widgets/controls",
      "_view_module_version": "1.5.0",
      "_view_name": "HTMLView",
      "description": "",
      "description_tooltip": null,
      "layout": "IPY_MODEL_99a900f85059444581e93cb6ec686c4d",
      "placeholder": "​",
      "style": "IPY_MODEL_2d64c717a1354cefab8b3c9e6334577e",
      "value": "100%"
     }
    }
   }
  }
 },
 "nbformat": 4,
 "nbformat_minor": 5
}
